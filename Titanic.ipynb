{
 "cells": [
  {
   "cell_type": "markdown",
   "id": "bcb64b32",
   "metadata": {
    "papermill": {
     "duration": 0.004601,
     "end_time": "2023-06-20T15:12:32.210889",
     "exception": false,
     "start_time": "2023-06-20T15:12:32.206288",
     "status": "completed"
    },
    "tags": []
   },
   "source": [
    "# Titanic"
   ]
  },
  {
   "cell_type": "code",
   "execution_count": 1,
   "id": "2b9e925b",
   "metadata": {
    "_cell_guid": "b1076dfc-b9ad-4769-8c92-a6c4dae69d19",
    "_uuid": "8f2839f25d086af736a60e9eeb907d3b93b6e0e5",
    "execution": {
     "iopub.execute_input": "2023-06-20T15:12:32.220864Z",
     "iopub.status.busy": "2023-06-20T15:12:32.220468Z",
     "iopub.status.idle": "2023-06-20T15:12:32.254141Z",
     "shell.execute_reply": "2023-06-20T15:12:32.253221Z"
    },
    "papermill": {
     "duration": 0.041876,
     "end_time": "2023-06-20T15:12:32.256944",
     "exception": false,
     "start_time": "2023-06-20T15:12:32.215068",
     "status": "completed"
    },
    "tags": []
   },
   "outputs": [],
   "source": [
    "import numpy as np\n",
    "import pandas as pd\n",
    "import os\n",
    "        \n",
    "train_data = pd.read_csv(\"/kaggle/input/titanic/train.csv\")\n",
    "train_data.head()\n",
    "\n",
    "features = [\"Pclass\", \"Sex\", \"SibSp\", \"Parch\"]\n",
    "targets = [\"Survived\"]"
   ]
  },
  {
   "cell_type": "code",
   "execution_count": 2,
   "id": "0dd0a461",
   "metadata": {
    "execution": {
     "iopub.execute_input": "2023-06-20T15:12:32.267285Z",
     "iopub.status.busy": "2023-06-20T15:12:32.266663Z",
     "iopub.status.idle": "2023-06-20T15:12:33.572314Z",
     "shell.execute_reply": "2023-06-20T15:12:33.571117Z"
    },
    "papermill": {
     "duration": 1.314126,
     "end_time": "2023-06-20T15:12:33.575213",
     "exception": false,
     "start_time": "2023-06-20T15:12:32.261087",
     "status": "completed"
    },
    "tags": []
   },
   "outputs": [],
   "source": [
    "from sklearn.model_selection import train_test_split\n",
    "\n",
    "train_x, test_x, train_y, test_y = train_test_split(train_data[features], train_data[targets], test_size = 0.25, random_state = 1)"
   ]
  },
  {
   "cell_type": "code",
   "execution_count": 3,
   "id": "d57a45aa",
   "metadata": {
    "execution": {
     "iopub.execute_input": "2023-06-20T15:12:33.585236Z",
     "iopub.status.busy": "2023-06-20T15:12:33.584828Z",
     "iopub.status.idle": "2023-06-20T15:12:33.598634Z",
     "shell.execute_reply": "2023-06-20T15:12:33.597581Z"
    },
    "papermill": {
     "duration": 0.021587,
     "end_time": "2023-06-20T15:12:33.601094",
     "exception": false,
     "start_time": "2023-06-20T15:12:33.579507",
     "status": "completed"
    },
    "tags": []
   },
   "outputs": [],
   "source": [
    "x = pd.get_dummies(train_x)\n",
    "y = pd.get_dummies(train_y).values.ravel()\n",
    "\n",
    "tx = pd.get_dummies(test_x)\n",
    "ty = pd.get_dummies(test_y).values.ravel()"
   ]
  },
  {
   "cell_type": "markdown",
   "id": "9e27689a",
   "metadata": {
    "papermill": {
     "duration": 0.003676,
     "end_time": "2023-06-20T15:12:33.608813",
     "exception": false,
     "start_time": "2023-06-20T15:12:33.605137",
     "status": "completed"
    },
    "tags": []
   },
   "source": [
    "## Model 1: logistic regression"
   ]
  },
  {
   "cell_type": "code",
   "execution_count": 4,
   "id": "285cd7e6",
   "metadata": {
    "execution": {
     "iopub.execute_input": "2023-06-20T15:12:33.618954Z",
     "iopub.status.busy": "2023-06-20T15:12:33.617966Z",
     "iopub.status.idle": "2023-06-20T15:12:33.748674Z",
     "shell.execute_reply": "2023-06-20T15:12:33.747113Z"
    },
    "papermill": {
     "duration": 0.13855,
     "end_time": "2023-06-20T15:12:33.751185",
     "exception": false,
     "start_time": "2023-06-20T15:12:33.612635",
     "status": "completed"
    },
    "tags": []
   },
   "outputs": [
    {
     "data": {
      "text/html": [
       "<style>#sk-container-id-1 {color: black;background-color: white;}#sk-container-id-1 pre{padding: 0;}#sk-container-id-1 div.sk-toggleable {background-color: white;}#sk-container-id-1 label.sk-toggleable__label {cursor: pointer;display: block;width: 100%;margin-bottom: 0;padding: 0.3em;box-sizing: border-box;text-align: center;}#sk-container-id-1 label.sk-toggleable__label-arrow:before {content: \"▸\";float: left;margin-right: 0.25em;color: #696969;}#sk-container-id-1 label.sk-toggleable__label-arrow:hover:before {color: black;}#sk-container-id-1 div.sk-estimator:hover label.sk-toggleable__label-arrow:before {color: black;}#sk-container-id-1 div.sk-toggleable__content {max-height: 0;max-width: 0;overflow: hidden;text-align: left;background-color: #f0f8ff;}#sk-container-id-1 div.sk-toggleable__content pre {margin: 0.2em;color: black;border-radius: 0.25em;background-color: #f0f8ff;}#sk-container-id-1 input.sk-toggleable__control:checked~div.sk-toggleable__content {max-height: 200px;max-width: 100%;overflow: auto;}#sk-container-id-1 input.sk-toggleable__control:checked~label.sk-toggleable__label-arrow:before {content: \"▾\";}#sk-container-id-1 div.sk-estimator input.sk-toggleable__control:checked~label.sk-toggleable__label {background-color: #d4ebff;}#sk-container-id-1 div.sk-label input.sk-toggleable__control:checked~label.sk-toggleable__label {background-color: #d4ebff;}#sk-container-id-1 input.sk-hidden--visually {border: 0;clip: rect(1px 1px 1px 1px);clip: rect(1px, 1px, 1px, 1px);height: 1px;margin: -1px;overflow: hidden;padding: 0;position: absolute;width: 1px;}#sk-container-id-1 div.sk-estimator {font-family: monospace;background-color: #f0f8ff;border: 1px dotted black;border-radius: 0.25em;box-sizing: border-box;margin-bottom: 0.5em;}#sk-container-id-1 div.sk-estimator:hover {background-color: #d4ebff;}#sk-container-id-1 div.sk-parallel-item::after {content: \"\";width: 100%;border-bottom: 1px solid gray;flex-grow: 1;}#sk-container-id-1 div.sk-label:hover label.sk-toggleable__label {background-color: #d4ebff;}#sk-container-id-1 div.sk-serial::before {content: \"\";position: absolute;border-left: 1px solid gray;box-sizing: border-box;top: 0;bottom: 0;left: 50%;z-index: 0;}#sk-container-id-1 div.sk-serial {display: flex;flex-direction: column;align-items: center;background-color: white;padding-right: 0.2em;padding-left: 0.2em;position: relative;}#sk-container-id-1 div.sk-item {position: relative;z-index: 1;}#sk-container-id-1 div.sk-parallel {display: flex;align-items: stretch;justify-content: center;background-color: white;position: relative;}#sk-container-id-1 div.sk-item::before, #sk-container-id-1 div.sk-parallel-item::before {content: \"\";position: absolute;border-left: 1px solid gray;box-sizing: border-box;top: 0;bottom: 0;left: 50%;z-index: -1;}#sk-container-id-1 div.sk-parallel-item {display: flex;flex-direction: column;z-index: 1;position: relative;background-color: white;}#sk-container-id-1 div.sk-parallel-item:first-child::after {align-self: flex-end;width: 50%;}#sk-container-id-1 div.sk-parallel-item:last-child::after {align-self: flex-start;width: 50%;}#sk-container-id-1 div.sk-parallel-item:only-child::after {width: 0;}#sk-container-id-1 div.sk-dashed-wrapped {border: 1px dashed gray;margin: 0 0.4em 0.5em 0.4em;box-sizing: border-box;padding-bottom: 0.4em;background-color: white;}#sk-container-id-1 div.sk-label label {font-family: monospace;font-weight: bold;display: inline-block;line-height: 1.2em;}#sk-container-id-1 div.sk-label-container {text-align: center;}#sk-container-id-1 div.sk-container {/* jupyter's `normalize.less` sets `[hidden] { display: none; }` but bootstrap.min.css set `[hidden] { display: none !important; }` so we also need the `!important` here to be able to override the default hidden behavior on the sphinx rendered scikit-learn.org. See: https://github.com/scikit-learn/scikit-learn/issues/21755 */display: inline-block !important;position: relative;}#sk-container-id-1 div.sk-text-repr-fallback {display: none;}</style><div id=\"sk-container-id-1\" class=\"sk-top-container\"><div class=\"sk-text-repr-fallback\"><pre>LogisticRegression()</pre><b>In a Jupyter environment, please rerun this cell to show the HTML representation or trust the notebook. <br />On GitHub, the HTML representation is unable to render, please try loading this page with nbviewer.org.</b></div><div class=\"sk-container\" hidden><div class=\"sk-item\"><div class=\"sk-estimator sk-toggleable\"><input class=\"sk-toggleable__control sk-hidden--visually\" id=\"sk-estimator-id-1\" type=\"checkbox\" checked><label for=\"sk-estimator-id-1\" class=\"sk-toggleable__label sk-toggleable__label-arrow\">LogisticRegression</label><div class=\"sk-toggleable__content\"><pre>LogisticRegression()</pre></div></div></div></div></div>"
      ],
      "text/plain": [
       "LogisticRegression()"
      ]
     },
     "execution_count": 4,
     "metadata": {},
     "output_type": "execute_result"
    }
   ],
   "source": [
    "from sklearn.linear_model import LogisticRegression\n",
    "\n",
    "logistic_regression_model = LogisticRegression()\n",
    "logistic_regression_model.fit(x, y)"
   ]
  },
  {
   "cell_type": "markdown",
   "id": "263fd670",
   "metadata": {
    "papermill": {
     "duration": 0.00396,
     "end_time": "2023-06-20T15:12:33.759599",
     "exception": false,
     "start_time": "2023-06-20T15:12:33.755639",
     "status": "completed"
    },
    "tags": []
   },
   "source": [
    "## Model 2: random forest"
   ]
  },
  {
   "cell_type": "code",
   "execution_count": 5,
   "id": "9e9819ed",
   "metadata": {
    "execution": {
     "iopub.execute_input": "2023-06-20T15:12:33.770300Z",
     "iopub.status.busy": "2023-06-20T15:12:33.769215Z",
     "iopub.status.idle": "2023-06-20T15:12:34.296173Z",
     "shell.execute_reply": "2023-06-20T15:12:34.295427Z"
    },
    "papermill": {
     "duration": 0.534615,
     "end_time": "2023-06-20T15:12:34.298326",
     "exception": false,
     "start_time": "2023-06-20T15:12:33.763711",
     "status": "completed"
    },
    "tags": []
   },
   "outputs": [
    {
     "data": {
      "text/html": [
       "<style>#sk-container-id-2 {color: black;background-color: white;}#sk-container-id-2 pre{padding: 0;}#sk-container-id-2 div.sk-toggleable {background-color: white;}#sk-container-id-2 label.sk-toggleable__label {cursor: pointer;display: block;width: 100%;margin-bottom: 0;padding: 0.3em;box-sizing: border-box;text-align: center;}#sk-container-id-2 label.sk-toggleable__label-arrow:before {content: \"▸\";float: left;margin-right: 0.25em;color: #696969;}#sk-container-id-2 label.sk-toggleable__label-arrow:hover:before {color: black;}#sk-container-id-2 div.sk-estimator:hover label.sk-toggleable__label-arrow:before {color: black;}#sk-container-id-2 div.sk-toggleable__content {max-height: 0;max-width: 0;overflow: hidden;text-align: left;background-color: #f0f8ff;}#sk-container-id-2 div.sk-toggleable__content pre {margin: 0.2em;color: black;border-radius: 0.25em;background-color: #f0f8ff;}#sk-container-id-2 input.sk-toggleable__control:checked~div.sk-toggleable__content {max-height: 200px;max-width: 100%;overflow: auto;}#sk-container-id-2 input.sk-toggleable__control:checked~label.sk-toggleable__label-arrow:before {content: \"▾\";}#sk-container-id-2 div.sk-estimator input.sk-toggleable__control:checked~label.sk-toggleable__label {background-color: #d4ebff;}#sk-container-id-2 div.sk-label input.sk-toggleable__control:checked~label.sk-toggleable__label {background-color: #d4ebff;}#sk-container-id-2 input.sk-hidden--visually {border: 0;clip: rect(1px 1px 1px 1px);clip: rect(1px, 1px, 1px, 1px);height: 1px;margin: -1px;overflow: hidden;padding: 0;position: absolute;width: 1px;}#sk-container-id-2 div.sk-estimator {font-family: monospace;background-color: #f0f8ff;border: 1px dotted black;border-radius: 0.25em;box-sizing: border-box;margin-bottom: 0.5em;}#sk-container-id-2 div.sk-estimator:hover {background-color: #d4ebff;}#sk-container-id-2 div.sk-parallel-item::after {content: \"\";width: 100%;border-bottom: 1px solid gray;flex-grow: 1;}#sk-container-id-2 div.sk-label:hover label.sk-toggleable__label {background-color: #d4ebff;}#sk-container-id-2 div.sk-serial::before {content: \"\";position: absolute;border-left: 1px solid gray;box-sizing: border-box;top: 0;bottom: 0;left: 50%;z-index: 0;}#sk-container-id-2 div.sk-serial {display: flex;flex-direction: column;align-items: center;background-color: white;padding-right: 0.2em;padding-left: 0.2em;position: relative;}#sk-container-id-2 div.sk-item {position: relative;z-index: 1;}#sk-container-id-2 div.sk-parallel {display: flex;align-items: stretch;justify-content: center;background-color: white;position: relative;}#sk-container-id-2 div.sk-item::before, #sk-container-id-2 div.sk-parallel-item::before {content: \"\";position: absolute;border-left: 1px solid gray;box-sizing: border-box;top: 0;bottom: 0;left: 50%;z-index: -1;}#sk-container-id-2 div.sk-parallel-item {display: flex;flex-direction: column;z-index: 1;position: relative;background-color: white;}#sk-container-id-2 div.sk-parallel-item:first-child::after {align-self: flex-end;width: 50%;}#sk-container-id-2 div.sk-parallel-item:last-child::after {align-self: flex-start;width: 50%;}#sk-container-id-2 div.sk-parallel-item:only-child::after {width: 0;}#sk-container-id-2 div.sk-dashed-wrapped {border: 1px dashed gray;margin: 0 0.4em 0.5em 0.4em;box-sizing: border-box;padding-bottom: 0.4em;background-color: white;}#sk-container-id-2 div.sk-label label {font-family: monospace;font-weight: bold;display: inline-block;line-height: 1.2em;}#sk-container-id-2 div.sk-label-container {text-align: center;}#sk-container-id-2 div.sk-container {/* jupyter's `normalize.less` sets `[hidden] { display: none; }` but bootstrap.min.css set `[hidden] { display: none !important; }` so we also need the `!important` here to be able to override the default hidden behavior on the sphinx rendered scikit-learn.org. See: https://github.com/scikit-learn/scikit-learn/issues/21755 */display: inline-block !important;position: relative;}#sk-container-id-2 div.sk-text-repr-fallback {display: none;}</style><div id=\"sk-container-id-2\" class=\"sk-top-container\"><div class=\"sk-text-repr-fallback\"><pre>RandomForestClassifier(max_depth=5, random_state=1)</pre><b>In a Jupyter environment, please rerun this cell to show the HTML representation or trust the notebook. <br />On GitHub, the HTML representation is unable to render, please try loading this page with nbviewer.org.</b></div><div class=\"sk-container\" hidden><div class=\"sk-item\"><div class=\"sk-estimator sk-toggleable\"><input class=\"sk-toggleable__control sk-hidden--visually\" id=\"sk-estimator-id-2\" type=\"checkbox\" checked><label for=\"sk-estimator-id-2\" class=\"sk-toggleable__label sk-toggleable__label-arrow\">RandomForestClassifier</label><div class=\"sk-toggleable__content\"><pre>RandomForestClassifier(max_depth=5, random_state=1)</pre></div></div></div></div></div>"
      ],
      "text/plain": [
       "RandomForestClassifier(max_depth=5, random_state=1)"
      ]
     },
     "execution_count": 5,
     "metadata": {},
     "output_type": "execute_result"
    }
   ],
   "source": [
    "from sklearn.ensemble import RandomForestClassifier\n",
    "\n",
    "random_forest_model = RandomForestClassifier(n_estimators = 100, max_depth = 5, random_state = 1)\n",
    "random_forest_model.fit(x, y)"
   ]
  },
  {
   "cell_type": "markdown",
   "id": "d3fcd74e",
   "metadata": {
    "papermill": {
     "duration": 0.004116,
     "end_time": "2023-06-20T15:12:34.306873",
     "exception": false,
     "start_time": "2023-06-20T15:12:34.302757",
     "status": "completed"
    },
    "tags": []
   },
   "source": [
    "## Models evaluation"
   ]
  },
  {
   "cell_type": "code",
   "execution_count": 6,
   "id": "f1177569",
   "metadata": {
    "execution": {
     "iopub.execute_input": "2023-06-20T15:12:34.319162Z",
     "iopub.status.busy": "2023-06-20T15:12:34.318268Z",
     "iopub.status.idle": "2023-06-20T15:12:34.344508Z",
     "shell.execute_reply": "2023-06-20T15:12:34.342946Z"
    },
    "papermill": {
     "duration": 0.034596,
     "end_time": "2023-06-20T15:12:34.347313",
     "exception": false,
     "start_time": "2023-06-20T15:12:34.312717",
     "status": "completed"
    },
    "tags": []
   },
   "outputs": [
    {
     "name": "stdout",
     "output_type": "stream",
     "text": [
      "Logistic regression accuracy 0.7802690582959642\n",
      "Random forest score 0.7847533632286996\n"
     ]
    }
   ],
   "source": [
    "logistic_regression_score = logistic_regression_model.score(tx, ty)\n",
    "random_forest_score = random_forest_model.score(tx, ty)\n",
    "\n",
    "print(\"Logistic regression accuracy\", logistic_regression_score)\n",
    "print(\"Random forest score\", random_forest_score)"
   ]
  },
  {
   "cell_type": "code",
   "execution_count": 7,
   "id": "eeabfdd8",
   "metadata": {
    "execution": {
     "iopub.execute_input": "2023-06-20T15:12:34.358795Z",
     "iopub.status.busy": "2023-06-20T15:12:34.358397Z",
     "iopub.status.idle": "2023-06-20T15:12:34.401146Z",
     "shell.execute_reply": "2023-06-20T15:12:34.399943Z"
    },
    "papermill": {
     "duration": 0.051828,
     "end_time": "2023-06-20T15:12:34.403981",
     "exception": false,
     "start_time": "2023-06-20T15:12:34.352153",
     "status": "completed"
    },
    "tags": []
   },
   "outputs": [],
   "source": [
    "test_data = pd.read_csv(\"/kaggle/input/titanic/test.csv\")\n",
    "test_data.head()\n",
    "\n",
    "test = pd.get_dummies(test_data[features])\n",
    "\n",
    "predictions = random_forest_model.predict(test)\n",
    "\n",
    "output = pd.DataFrame({'PassengerId': test_data.PassengerId, 'Survived': predictions})\n",
    "output.to_csv('submission.csv', index = False)"
   ]
  }
 ],
 "metadata": {
  "kernelspec": {
   "display_name": "Python 3",
   "language": "python",
   "name": "python3"
  },
  "language_info": {
   "codemirror_mode": {
    "name": "ipython",
    "version": 3
   },
   "file_extension": ".py",
   "mimetype": "text/x-python",
   "name": "python",
   "nbconvert_exporter": "python",
   "pygments_lexer": "ipython3",
   "version": "3.10.10"
  },
  "papermill": {
   "default_parameters": {},
   "duration": 14.92461,
   "end_time": "2023-06-20T15:12:35.431794",
   "environment_variables": {},
   "exception": null,
   "input_path": "__notebook__.ipynb",
   "output_path": "__notebook__.ipynb",
   "parameters": {},
   "start_time": "2023-06-20T15:12:20.507184",
   "version": "2.4.0"
  }
 },
 "nbformat": 4,
 "nbformat_minor": 5
}
